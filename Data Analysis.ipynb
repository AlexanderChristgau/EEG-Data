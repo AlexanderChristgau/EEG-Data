{
 "cells": [
  {
   "cell_type": "code",
   "execution_count": 1,
   "metadata": {},
   "outputs": [],
   "source": [
    "import numpy as np\n",
    "from tqdm.notebook import tqdm\n",
    "from itertools import combinations\n",
    "import matplotlib.pyplot as plt\n",
    "from utils import RFsLDA\n",
    "\n",
    "from sklearn.decomposition import FastICA\n",
    "from coroica import CoroICA, UwedgeICA\n",
    "\n",
    "from scipy.special import comb\n",
    "import seaborn as sns\n",
    "import pandas as pd\n",
    "\n",
    "from sklearn import svm\n",
    "from sklearn.discriminant_analysis import LinearDiscriminantAnalysis\n",
    "from sklearn.discriminant_analysis import QuadraticDiscriminantAnalysis\n",
    "from sklearn.ensemble import RandomForestClassifier\n",
    "from sklearn.ensemble import AdaBoostClassifier\n",
    "from sklearn.tree import DecisionTreeClassifier\n",
    "from sklearn.neural_network import MLPClassifier\n",
    "\n",
    "from timeit import default_timer"
   ]
  },
  {
   "cell_type": "code",
   "execution_count": 2,
   "metadata": {},
   "outputs": [],
   "source": [
    "n_ses = [273, 281, 270, 283, 270, 273, 262, 228, 262, 276, 219, 215, 271, 277, 264, 271, 237, 264]\n",
    "#n_ses = [273, 281, 270, 273, 262, 228, 262, 276, 219, 215, 271, 277, 264, 271, 237, 264]"
   ]
  },
  {
   "cell_type": "code",
   "execution_count": 3,
   "metadata": {},
   "outputs": [],
   "source": [
    "Classes= np.load('Class_CAR_nofilt.npy')"
   ]
  },
  {
   "cell_type": "code",
   "execution_count": 4,
   "metadata": {},
   "outputs": [],
   "source": [
    "Signals =np.load(\"Signals_CAR_nofilt.npy\")"
   ]
  },
  {
   "cell_type": "code",
   "execution_count": 5,
   "metadata": {},
   "outputs": [
    {
     "name": "stdout",
     "output_type": "stream",
     "text": [
      "(4696,) (4696, 21, 750) float32\n"
     ]
    }
   ],
   "source": [
    "print(Classes.shape, Signals.shape, Signals.dtype)"
   ]
  },
  {
   "cell_type": "markdown",
   "metadata": {},
   "source": [
    "# Try to sanitycheck classifyer on raw data"
   ]
  },
  {
   "cell_type": "code",
   "execution_count": null,
   "metadata": {},
   "outputs": [],
   "source": [
    "X_test = np.log(np.var(Signals, axis = 2))"
   ]
  },
  {
   "cell_type": "code",
   "execution_count": null,
   "metadata": {},
   "outputs": [],
   "source": [
    "clf = svm.SVC(decision_function_shape='ovo')\n",
    "clf.fit(X_test, Classes)"
   ]
  },
  {
   "cell_type": "code",
   "execution_count": null,
   "metadata": {},
   "outputs": [],
   "source": [
    "predicts = clf.predict(X_test)\n",
    "np.mean(predicts==Classes)"
   ]
  },
  {
   "cell_type": "markdown",
   "metadata": {},
   "source": [
    "# Try ICA"
   ]
  },
  {
   "cell_type": "code",
   "execution_count": null,
   "metadata": {},
   "outputs": [],
   "source": [
    "Sig1,Sig2, I, L = Signals_pipeline(range(1))"
   ]
  },
  {
   "cell_type": "code",
   "execution_count": null,
   "metadata": {},
   "outputs": [],
   "source": [
    "transformer = FastICA(n_components=21, tol=0.01,random_state=0)\n",
    "X1 = transformer.fit_transform(Sig1)\n",
    "print(X1.shape)\n",
    "X2 =  transformer.transform(Sig2)"
   ]
  },
  {
   "cell_type": "code",
   "execution_count": null,
   "metadata": {},
   "outputs": [],
   "source": [
    "X1,X2 = X1.transpose(), X2.transpose()\n",
    "X1,X2 = X1.reshape((21, len(I), 750)),X2.reshape(21,len(L),750)"
   ]
  },
  {
   "cell_type": "markdown",
   "metadata": {},
   "source": [
    "# Bandpass filter and bandpower features"
   ]
  },
  {
   "cell_type": "code",
   "execution_count": 6,
   "metadata": {},
   "outputs": [],
   "source": [
    "from scipy.signal import butter, lfilter\n",
    "\n",
    "lowcut = 8\n",
    "highcut = 30\n",
    "fs = 250 # sampling frequency\n",
    "order = 3\n",
    "nyq = 0.5 * fs\n",
    "low = lowcut / nyq\n",
    "high = highcut / nyq\n",
    "b, a = butter(order, [low, high], btype='band')"
   ]
  },
  {
   "cell_type": "code",
   "execution_count": null,
   "metadata": {},
   "outputs": [],
   "source": [
    "#Apply bandpass filters\n",
    "Filt1,Filt2 = lfilter(b,a,X1),lfilter(b,a,X2)\n",
    "\n",
    "## Extract bandpower features\n",
    "Features1,Features2 = np.log(np.var(Filt1, axis = 2)),np.log(np.var(Filt2, axis = 2))\n",
    "Features1,Features2 = Features1.transpose(),Features2.transpose()"
   ]
  },
  {
   "cell_type": "markdown",
   "metadata": {},
   "source": [
    "# Try classifying on ica's banpowers"
   ]
  },
  {
   "cell_type": "code",
   "execution_count": null,
   "metadata": {},
   "outputs": [],
   "source": [
    "clf = svm.SVC(decision_function_shape='ovo', kernel = \"linear\")\n",
    "clf.fit(Features1, Classes[I])"
   ]
  },
  {
   "cell_type": "code",
   "execution_count": null,
   "metadata": {},
   "outputs": [],
   "source": [
    "predicts = clf.predict(Features2)\n",
    "np.mean(predicts==Classes[L])"
   ]
  },
  {
   "cell_type": "code",
   "execution_count": null,
   "metadata": {},
   "outputs": [],
   "source": [
    "clf = QuadraticDiscriminantAnalysis(reg_param=0.1)\n",
    "clf.fit(Features1, Classes[I])"
   ]
  },
  {
   "cell_type": "code",
   "execution_count": null,
   "metadata": {},
   "outputs": [],
   "source": [
    "predicts = clf.predict(Features2)\n",
    "np.mean(predicts==Classes[L])"
   ]
  },
  {
   "cell_type": "markdown",
   "metadata": {},
   "source": [
    "# Pipeline"
   ]
  },
  {
   "cell_type": "code",
   "execution_count": 7,
   "metadata": {},
   "outputs": [],
   "source": [
    "def Indices(persons):\n",
    "    ans = []\n",
    "    for p in persons:\n",
    "        a = sum(n_ses[:2*p])\n",
    "        b = sum(n_ses[:2*p+2])\n",
    "        ans += list(range(a,b))\n",
    "    return ans"
   ]
  },
  {
   "cell_type": "code",
   "execution_count": 8,
   "metadata": {},
   "outputs": [],
   "source": [
    "def reshape_signal(arr):\n",
    "    x,y,z = arr.shape\n",
    "    a = np.stack(arr, axis = 1)\n",
    "    a = a.reshape((y, x*z))\n",
    "    return a.transpose()"
   ]
  },
  {
   "cell_type": "code",
   "execution_count": 9,
   "metadata": {},
   "outputs": [],
   "source": [
    "N_list = range(sum(n_ses))\n",
    "def Signals_pipeline(persons):\n",
    "    I = Indices(persons)\n",
    "    LeaveOut = list(set(N_list) - set(I))\n",
    "\n",
    "    ## Get signals and reshape\n",
    "    Signals1,Signals2 = Signals[I], Signals[LeaveOut]\n",
    "    return reshape_signal(Signals1),reshape_signal(Signals2), I, LeaveOut"
   ]
  },
  {
   "cell_type": "code",
   "execution_count": 10,
   "metadata": {},
   "outputs": [],
   "source": [
    "def ICA_METHODS():\n",
    "    return {\n",
    "        \"CoroICA\":CoroICA(partitionsize= int(20 * 200),\n",
    "                          max_iter =2000,\n",
    "                          n_components=21,\n",
    "                          groupsize = int(510*750),\n",
    "                          minimize_loss=False,\n",
    "                          condition_threshold=1000,\n",
    "                          pairing='neighbouring'),\n",
    "        \"choiICA\": UwedgeICA(partitionsize= int(15 * 200),\n",
    "                             n_components=21,\n",
    "                             condition_threshold=1000,\n",
    "                             instantcov=True,\n",
    "                             timelags=None),\n",
    "        \"FastICA\":FastICA(n_components=21,max_iter = 10,tol=0.00001)\n",
    "    }\n",
    "def Classifier():\n",
    "    return {\n",
    "        \"SVM\": svm.SVC(decision_function_shape='ovo', kernel = \"linear\"),\n",
    "        \"RF\": RandomForestClassifier(n_estimators = 10000,max_depth = 5),\n",
    "        \"LDA\":LinearDiscriminantAnalysis(),\n",
    "        \"QDA\":QuadraticDiscriminantAnalysis(reg_param=0.08),\n",
    "        \"AdaBoost\":AdaBoostClassifier(DecisionTreeClassifier(max_depth=2),n_estimators=600,learning_rate=1),\n",
    "        \"MLP\": MLPClassifier(random_state=1, max_iter=10000),\n",
    "        \"RFsLDA\": RFsLDA()\n",
    "    }"
   ]
  },
  {
   "cell_type": "code",
   "execution_count": 11,
   "metadata": {},
   "outputs": [],
   "source": [
    "def ICA_pipeline(method, Signals1, Signals2, I, LeaveOut, timer = True, classifier = \"SVM\"):\n",
    "        ## Apply ICA\n",
    "        transformer = ICA_METHODS()[method]\n",
    "        start = default_timer()\n",
    "        X = transformer.fit_transform(Signals1)\n",
    "        Y = transformer.transform(Signals2)\n",
    "        end = default_timer()\n",
    "        X,Y = X.transpose(), Y.transpose()\n",
    "        X,Y = X.reshape((21, len(I), 750)),Y.reshape(21,len(N_list)-len(I),750)\n",
    "        \n",
    "        #Apply bandpass filters\n",
    "        Filt1,Filt2 = lfilter(b,a,X),lfilter(b,a,Y)\n",
    "\n",
    "        ## Extract bandpower features\n",
    "        Features1,Features2 = np.log(np.var(Filt1, axis = 2)),np.log(np.var(Filt2, axis = 2))\n",
    "        Features1,Features2 = Features1.transpose(),Features2.transpose()\n",
    "        \n",
    "        ## Fit Classifier and predict\n",
    "        clf = Classifier()[classifier]\n",
    "        clf.fit(Features1, Classes[I])\n",
    "\n",
    "        predicts = clf.predict(Features2)\n",
    "        if timer:\n",
    "            return np.mean(predicts==Classes[LeaveOut]),end - start\n",
    "        return np.mean(predicts==Classes[LeaveOut])"
   ]
  },
  {
   "cell_type": "code",
   "execution_count": 12,
   "metadata": {},
   "outputs": [],
   "source": [
    "def Main_Pipeline(n_train=[8], max_iter = 5, echo = False,\n",
    "                  classifier = \"SVM\", n_subs=9):\n",
    "    df = pd.DataFrame(columns = [\"Accuracy\", \"Method\", \"n_train\", \"Time\"])    \n",
    "    \n",
    "    for n in n_train:\n",
    "        cache = []\n",
    "        n_subsets = min(comb(n_subs,n,exact=True),max_iter)\n",
    "        for i in tqdm(np.random.permutation(list(combinations(range(n_subs),n)))[:n_subsets].tolist()):\n",
    "            cache.append(i)\n",
    "\n",
    "            S1,S2,I,L = Signals_pipeline(i)\n",
    "            if echo:\n",
    "                print(\"Finding ICA's for subset\", i)\n",
    "            try:\n",
    "                x1, x2 = ICA_pipeline(\"FastICA\",S1,S2,I,L,classifier)\n",
    "            except ValueError:\n",
    "                print(\"FastICA crashed\")\n",
    "                continue\n",
    "            else:\n",
    "                y1, y2 = ICA_pipeline(\"CoroICA\",S1,S2,I,L,classifier)\n",
    "                z1, z2 = ICA_pipeline(\"choiICA\",S1,S2,I,L,classifier)\n",
    "\n",
    "                df = df.append({\"Accuracy\":x1,\"Method\" : \"FastICA\",\"n_train\":n,\"Time\":x2},ignore_index=True)\n",
    "                df = df.append({\"Accuracy\":y1,\"Method\" : \"CoroICA\",\"n_train\":n,\"Time\":y2},ignore_index=True)\n",
    "                df = df.append({\"Accuracy\":z1,\"Method\":\"choiICA\",\"n_train\":n,\"Time\":z2},ignore_index=True)\n",
    "        print(cache)\n",
    "            \n",
    "    return df"
   ]
  },
  {
   "cell_type": "code",
   "execution_count": 13,
   "metadata": {},
   "outputs": [
    {
     "data": {
      "application/vnd.jupyter.widget-view+json": {
       "model_id": "83bc2da7fd34499abdde4279be1e144f",
       "version_major": 2,
       "version_minor": 0
      },
      "text/plain": [
       "HBox(children=(IntProgress(value=0, max=5), HTML(value='')))"
      ]
     },
     "metadata": {},
     "output_type": "display_data"
    },
    {
     "name": "stderr",
     "output_type": "stream",
     "text": [
      "/home/alexander/anaconda3/lib/python3.7/site-packages/sklearn/decomposition/_fastica.py:119: ConvergenceWarning: FastICA did not converge. Consider increasing tolerance or the maximum number of iterations.\n",
      "  ConvergenceWarning)\n",
      "/home/alexander/anaconda3/lib/python3.7/site-packages/sklearn/decomposition/_fastica.py:119: ConvergenceWarning: FastICA did not converge. Consider increasing tolerance or the maximum number of iterations.\n",
      "  ConvergenceWarning)\n",
      "/home/alexander/anaconda3/lib/python3.7/site-packages/sklearn/decomposition/_fastica.py:119: ConvergenceWarning: FastICA did not converge. Consider increasing tolerance or the maximum number of iterations.\n",
      "  ConvergenceWarning)\n",
      "/home/alexander/anaconda3/lib/python3.7/site-packages/sklearn/decomposition/_fastica.py:119: ConvergenceWarning: FastICA did not converge. Consider increasing tolerance or the maximum number of iterations.\n",
      "  ConvergenceWarning)\n",
      "/home/alexander/anaconda3/lib/python3.7/site-packages/sklearn/decomposition/_fastica.py:119: ConvergenceWarning: FastICA did not converge. Consider increasing tolerance or the maximum number of iterations.\n",
      "  ConvergenceWarning)\n"
     ]
    },
    {
     "name": "stdout",
     "output_type": "stream",
     "text": [
      "\n",
      "[[0, 1, 3, 5, 7, 8], [0, 1, 2, 3, 7, 8], [2, 3, 5, 6, 7, 8], [1, 2, 3, 4, 5, 7], [0, 2, 3, 4, 5, 6]]\n"
     ]
    }
   ],
   "source": [
    "df = Main_Pipeline([6],max_iter=5, classifier = \"RFsLDA\")"
   ]
  },
  {
   "cell_type": "code",
   "execution_count": 15,
   "metadata": {},
   "outputs": [
    {
     "data": {
      "image/png": "[encoded data removed]",
      "text/plain": [
       "<Figure size 1080x432 with 1 Axes>"
      ]
     },
     "metadata": {
      "needs_background": "light"
     },
     "output_type": "display_data"
    }
   ],
   "source": [
    "fig, ax1 = plt.subplots(figsize=(15, 6), sharex=True)\n",
    "ax1 = sns.violinplot(x=\"n_train\", y=\"Accuracy\", hue=\"Method\", inner = \"box\", cut=1,\n",
    "                    data=df,ax = ax1)\n",
    "plt.plot([-0.4, len(set(df[\"n_train\"]))-0.5], [0.25, 0.25], linewidth=2, color = \"pink\")\n",
    "plt.show()"
   ]
  },
  {
   "cell_type": "code",
   "execution_count": null,
   "metadata": {},
   "outputs": [],
   "source": [
    "fig, ax1 = plt.subplots(figsize=(15, 6), sharex=True)\n",
    "ax1 = sns.catplot(x=\"n_train\", y=\"Accuracy\", hue=\"Method\",\n",
    "                    data=df1, kind=\"box\",fliersize = 0,whis=1, ax = ax1) #,, "
   ]
  },
  {
   "cell_type": "code",
   "execution_count": null,
   "metadata": {
    "scrolled": true
   },
   "outputs": [],
   "source": [
    "fig, ax1 = plt.subplots(figsize=(15, 6), sharex=True)\n",
    "sns.lineplot(x=\"n_train\", y=\"Accuracy\", hue = \"Method\", data=df2) #,style = \"Classifier\""
   ]
  },
  {
   "cell_type": "code",
   "execution_count": 16,
   "metadata": {},
   "outputs": [
    {
     "data": {
      "text/plain": [
       "<seaborn.axisgrid.FacetGrid at 0x7f7620108190>"
      ]
     },
     "execution_count": 16,
     "metadata": {},
     "output_type": "execute_result"
    },
    {
     "data": {
      "image/png": "[encoded data removed]",
      "text/plain": [
       "<Figure size 443.725x360 with 1 Axes>"
      ]
     },
     "metadata": {},
     "output_type": "display_data"
    }
   ],
   "source": [
    "sns.set(rc={'figure.figsize':(16,8)})\n",
    "sns.lmplot(x=\"Accuracy\", y=\"Time\",hue=\"Method\", truncate = True, data=df)"
   ]
  },
  {
   "cell_type": "code",
   "execution_count": null,
   "metadata": {},
   "outputs": [],
   "source": [
    "sns.regplot(y=\"Time\", x=\"Accuracy\", hue=\"Method\", data=df1,\n",
    "                 order=2, ci=None)"
   ]
  },
  {
   "cell_type": "code",
   "execution_count": null,
   "metadata": {},
   "outputs": [],
   "source": [
    "df1 = pd.read_pickle(\"Timed_QDA.pkl\")\n",
    "df1[\"Classifier\"] = 192*[\"QDA\"]\n",
    "df2 = pd.read_pickle(\"Timed_MLP.pkl\")\n",
    "df2[\"Classifier\"] = 192*[\"MLP\"]\n",
    "df3 = pd.read_pickle(\"Timed_ADA.pkl\")\n",
    "df3[\"Classifier\"] = 3*8*9*[\"ADA\"]\n",
    "df4 = pd.read_pickle(\"Timed_RF.pkl\")\n",
    "df4[\"Classifier\"] = 192*[\"RF\"]"
   ]
  },
  {
   "cell_type": "code",
   "execution_count": null,
   "metadata": {},
   "outputs": [],
   "source": [
    "np.mean((df2[(df2[\"n_train\"]==6)])[\"Accuracy\"])"
   ]
  },
  {
   "cell_type": "code",
   "execution_count": null,
   "metadata": {},
   "outputs": [],
   "source": [
    "np.mean((df[(df[\"n_train\"]==6)])[\"Accuracy\"])"
   ]
  },
  {
   "cell_type": "code",
   "execution_count": null,
   "metadata": {},
   "outputs": [],
   "source": [
    "df1 = pd.read_pickle(\"RFLDA_TIMED1.pkl\")"
   ]
  },
  {
   "cell_type": "code",
   "execution_count": null,
   "metadata": {},
   "outputs": [],
   "source": [
    "df2 = pd.read_pickle(\"RFsLDA.pkl\")"
   ]
  },
  {
   "cell_type": "code",
   "execution_count": null,
   "metadata": {},
   "outputs": [],
   "source": [
    "df_all = pd.concat([df1,df2,df3,df4])"
   ]
  },
  {
   "cell_type": "code",
   "execution_count": null,
   "metadata": {},
   "outputs": [],
   "source": [
    "df_all[\"n_train\"] = pd.to_numeric(df_all[\"n_train\"])"
   ]
  },
  {
   "cell_type": "code",
   "execution_count": null,
   "metadata": {},
   "outputs": [],
   "source": [
    "#fig.savefig('violins.pdf', format = \"pdf\",  dpi=fig.dpi)"
   ]
  },
  {
   "cell_type": "code",
   "execution_count": null,
   "metadata": {},
   "outputs": [],
   "source": []
  },
  {
   "cell_type": "markdown",
   "metadata": {},
   "source": [
    "# Plot signals"
   ]
  },
  {
   "cell_type": "code",
   "execution_count": null,
   "metadata": {},
   "outputs": [],
   "source": [
    "import matplotlib.backends.backend_pdf\n",
    "\n",
    "def plot1():\n",
    "    pdf = matplotlib.backends.backend_pdf.PdfPages(\"Signalsplot.pdf\")\n",
    "    \n",
    "    \n",
    "    fig1, axs = plt.subplots(5,1,figsize=(12, 6),sharex = True)\n",
    "    #fig.tight_layout()\n",
    "    for ax, sig in zip(axs,[Signals[0,i,:] for i in range(5)]):\n",
    "        ax.plot(sig[:750])\n",
    "    fig1.suptitle('Raw signals', fontsize=16)\n",
    "    pdf.savefig(fig1)\n",
    "    \n",
    "    fig2, axs = plt.subplots(5,1,figsize=(12, 6),sharey =True,sharex=True)\n",
    "    #fig.tight_layout()\n",
    "    for ax, sig in zip(axs,[X1[0,i,:] for i in range(5)]):\n",
    "        ax.plot(sig[:750])\n",
    "    fig2.suptitle(\"Independent components\", fontsize=16)\n",
    "    pdf.savefig(fig2)\n",
    "    \n",
    "    fig3, axs = plt.subplots(5,1,figsize=(12, 6),sharey =True,sharex=True)\n",
    "    #fig.tight_layout()\n",
    "    for ax, sig in zip(axs,[Filt1[0,i,:] for i in range(5)]):\n",
    "        ax.plot(sig[:750])\n",
    "    fig3.suptitle(\"Filtered independent components\", fontsize=16)\n",
    "    pdf.savefig(fig3)\n",
    "    pdf.close()\n",
    "    plt.show()"
   ]
  },
  {
   "cell_type": "code",
   "execution_count": null,
   "metadata": {},
   "outputs": [],
   "source": [
    "plot1()"
   ]
  },
  {
   "cell_type": "code",
   "execution_count": null,
   "metadata": {},
   "outputs": [],
   "source": []
  },
  {
   "cell_type": "code",
   "execution_count": null,
   "metadata": {},
   "outputs": [],
   "source": []
  },
  {
   "cell_type": "code",
   "execution_count": null,
   "metadata": {},
   "outputs": [],
   "source": []
  },
  {
   "cell_type": "code",
   "execution_count": null,
   "metadata": {},
   "outputs": [],
   "source": []
  }
 ],
 "metadata": {
  "kernelspec": {
   "display_name": "Python 3",
   "language": "python",
   "name": "python3"
  },
  "language_info": {
   "codemirror_mode": {
    "name": "ipython",
    "version": 3
   },
   "file_extension": ".py",
   "mimetype": "text/x-python",
   "name": "python",
   "nbconvert_exporter": "python",
   "pygments_lexer": "ipython3",
   "version": "3.7.4"
  }
 },
 "nbformat": 4,
 "nbformat_minor": 2
}
