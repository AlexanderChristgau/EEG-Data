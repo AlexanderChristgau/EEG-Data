{
 "cells": [
  {
   "cell_type": "code",
   "execution_count": 1,
   "metadata": {},
   "outputs": [],
   "source": [
    "import scipy.io as sio\n",
    "import numpy as np\n",
    "import pandas as pd\n",
    "from sklearn.decomposition import FastICA\n",
    "from sklearn import svm\n",
    "import pandas as pd\n",
    "from tqdm.notebook import tqdm"
   ]
  },
  {
   "cell_type": "code",
   "execution_count": 2,
   "metadata": {},
   "outputs": [],
   "source": [
    "def clean_data(subject, training, artifactius = False):\n",
    "    '''\n",
    "    comment\n",
    "    '''\n",
    "    n_channels = 22    #Corresponding to the 22 EEG channels\n",
    "    n_trials = 6*48    #Each session has 6 experimental runs with 48 trials each\n",
    "    offset = 3*250     #record 3 seconds after trial marker\n",
    "    win_length = 3*250 #stop after 3 seconds of recording\n",
    "    \n",
    "    class_return = np.zeros(n_trials)\n",
    "    data_return = np.zeros((n_trials, n_channels, win_length))\n",
    "    \n",
    "    n_valid_trials = 0\n",
    "    \n",
    "    if training:\n",
    "        Z = sio.loadmat('A0'+str(subject)+'T.mat')\n",
    "    else:\n",
    "        Z = sio.loadmat('A0'+str(subject)+'E.mat')\n",
    "    Z_data = Z[\"data\"]\n",
    "    for i in range(Z_data.size):\n",
    "        Z_data1 = Z_data[0,i]\n",
    "        Z_data2 = [Z_data1[0,0]]\n",
    "        Z_data3 = Z_data2[0]\n",
    "        \n",
    "        Z_X         = Z_data3[0]\n",
    "        Z_trial     = Z_data3[1]\n",
    "        Z_y         = Z_data3[2]\n",
    "        Z_fs        = Z_data3[3]\n",
    "        Z_classes   = Z_data3[4]\n",
    "        Z_artifacts = Z_data3[5]\n",
    "        Z_gender    = Z_data3[6]\n",
    "        Z_age       = Z_data3[7]\n",
    "        for trial in range(0,Z_trial.size):\n",
    "            if Z_artifacts[trial]==0:\n",
    "                data_return[n_valid_trials,:,:] = np.transpose(\n",
    "                    Z_X[int(Z_trial[trial])+offset:(int(Z_trial[trial])+offset+win_length),:22]\n",
    "                )\n",
    "                class_return[n_valid_trials] = int(Z_y[trial])\n",
    "                n_valid_trials +=1\n",
    "                \n",
    "    return data_return[0:n_valid_trials,:,:], class_return[0:n_valid_trials]"
   ]
  },
  {
   "cell_type": "code",
   "execution_count": 3,
   "metadata": {},
   "outputs": [
    {
     "name": "stdout",
     "output_type": "stream",
     "text": [
      "(273, 22, 750)\n",
      "(273,)\n"
     ]
    }
   ],
   "source": [
    "testData = clean_data(1,True)\n",
    "print(testData[0].shape)\n",
    "print(testData[1].shape)"
   ]
  },
  {
   "cell_type": "markdown",
   "metadata": {},
   "source": [
    "Classification on raw data to sanity check"
   ]
  },
  {
   "cell_type": "code",
   "execution_count": 4,
   "metadata": {},
   "outputs": [],
   "source": [
    "def bandwidthpow(Data):\n",
    "    x,y,z = Data.shape\n",
    "    output = np.zeros((x,y))\n",
    "    \n",
    "    for i in range(x):\n",
    "        output[i,:] = np.log(np.var(Data[i,:,:], axis = 1))\n",
    "    return output"
   ]
  },
  {
   "cell_type": "code",
   "execution_count": 5,
   "metadata": {},
   "outputs": [],
   "source": [
    "bandwidths = bandwidthpow(testData[0])"
   ]
  },
  {
   "cell_type": "code",
   "execution_count": 6,
   "metadata": {},
   "outputs": [
    {
     "data": {
      "text/plain": [
       "SVC(C=1.0, break_ties=False, cache_size=200, class_weight=None, coef0=0.0,\n",
       "    decision_function_shape='ovo', degree=3, gamma='scale', kernel='rbf',\n",
       "    max_iter=-1, probability=False, random_state=None, shrinking=True,\n",
       "    tol=0.001, verbose=False)"
      ]
     },
     "execution_count": 6,
     "metadata": {},
     "output_type": "execute_result"
    }
   ],
   "source": [
    "clf = svm.SVC(decision_function_shape='ovo')\n",
    "clf.fit(bandwidths, testData[1])"
   ]
  },
  {
   "cell_type": "code",
   "execution_count": 7,
   "metadata": {},
   "outputs": [],
   "source": [
    "predicts = clf.predict(bandwidths)"
   ]
  },
  {
   "cell_type": "code",
   "execution_count": 8,
   "metadata": {},
   "outputs": [
    {
     "data": {
      "text/plain": [
       "0.4542124542124542"
      ]
     },
     "execution_count": 8,
     "metadata": {},
     "output_type": "execute_result"
    }
   ],
   "source": [
    "np.mean(predicts==testData[1])"
   ]
  },
  {
   "cell_type": "markdown",
   "metadata": {},
   "source": [
    "Well above chance, i.e. signals do explain to some degree."
   ]
  },
  {
   "cell_type": "markdown",
   "metadata": {},
   "source": [
    "# Try bandpass filtering"
   ]
  },
  {
   "cell_type": "code",
   "execution_count": 2,
   "metadata": {},
   "outputs": [],
   "source": [
    "from scipy.signal import butter, lfilter\n",
    "\n",
    "\n",
    "lowcut = 8\n",
    "highcut = 30\n",
    "fs = 250 # sampling frequency\n",
    "order = 3\n",
    "nyq = 0.5 * fs\n",
    "low = lowcut / nyq\n",
    "high = highcut / nyq\n",
    "b, a = butter(order, [low, high], btype='band')\n"
   ]
  },
  {
   "cell_type": "code",
   "execution_count": 10,
   "metadata": {},
   "outputs": [],
   "source": [
    "def reshape_signal(arr):\n",
    "    x,y,z = arr.shape\n",
    "    arr2 = np.stack(arr, axis = 1)\n",
    "    arr2 = arr2.reshape((y, x*z))\n",
    "    return arr2"
   ]
  },
  {
   "cell_type": "code",
   "execution_count": 11,
   "metadata": {},
   "outputs": [],
   "source": [
    "sig = reshape_signal(testData[0])"
   ]
  },
  {
   "cell_type": "code",
   "execution_count": 12,
   "metadata": {},
   "outputs": [],
   "source": [
    "sig_filter = lfilter(b, a, sig)"
   ]
  },
  {
   "cell_type": "code",
   "execution_count": 13,
   "metadata": {},
   "outputs": [],
   "source": [
    "sig_filter = np.stack((sig_filter).reshape(22,sig.shape[1]//750,750),axis=1)"
   ]
  },
  {
   "cell_type": "code",
   "execution_count": 14,
   "metadata": {},
   "outputs": [],
   "source": [
    "bandwidths = bandwidthpow(sig_filter)"
   ]
  },
  {
   "cell_type": "code",
   "execution_count": 15,
   "metadata": {},
   "outputs": [
    {
     "data": {
      "text/plain": [
       "SVC(C=1.0, break_ties=False, cache_size=200, class_weight=None, coef0=0.0,\n",
       "    decision_function_shape='ovo', degree=3, gamma='scale', kernel='rbf',\n",
       "    max_iter=-1, probability=False, random_state=None, shrinking=True,\n",
       "    tol=0.001, verbose=False)"
      ]
     },
     "execution_count": 15,
     "metadata": {},
     "output_type": "execute_result"
    }
   ],
   "source": [
    "clf = svm.SVC(decision_function_shape='ovo')\n",
    "clf.fit(bandwidths, testData[1])"
   ]
  },
  {
   "cell_type": "code",
   "execution_count": 16,
   "metadata": {},
   "outputs": [
    {
     "data": {
      "text/plain": [
       "0.608058608058608"
      ]
     },
     "execution_count": 16,
     "metadata": {},
     "output_type": "execute_result"
    }
   ],
   "source": [
    "predicts = clf.predict(bandwidths)\n",
    "np.mean(predicts==testData[1])"
   ]
  },
  {
   "cell_type": "code",
   "execution_count": 17,
   "metadata": {},
   "outputs": [
    {
     "name": "stdout",
     "output_type": "stream",
     "text": [
      "(22, 204750) (273, 22, 750) (273, 22, 750)\n"
     ]
    }
   ],
   "source": [
    "print(sig.shape, testData[0].shape, sig_filter.shape)"
   ]
  },
  {
   "cell_type": "markdown",
   "metadata": {},
   "source": [
    "# Cleaning all data"
   ]
  },
  {
   "cell_type": "code",
   "execution_count": 18,
   "metadata": {},
   "outputs": [
    {
     "data": {
      "application/vnd.jupyter.widget-view+json": {
       "model_id": "a45a78d0cccf47f9b1c85ca369610195",
       "version_major": 2,
       "version_minor": 0
      },
      "text/plain": [
       "HBox(children=(IntProgress(value=0, max=9), HTML(value='')))"
      ]
     },
     "metadata": {},
     "output_type": "display_data"
    },
    {
     "name": "stdout",
     "output_type": "stream",
     "text": [
      "\n"
     ]
    }
   ],
   "source": [
    "Signal_list = []\n",
    "Class_list = []\n",
    "Session_lengths = []\n",
    "\n",
    "for i in tqdm(range(1,10)):\n",
    "    data = clean_data(i,True)\n",
    "    sig = reshape_signal(data[0])\n",
    "    sig_filter = lfilter(b, a, sig)\n",
    "    sig_filter = np.stack((sig_filter).reshape(22,sig.shape[1]//750,750),axis=1)\n",
    "    Signal_list.append(sig_filter)\n",
    "    \n",
    "    \n",
    "    Class_list.append(data[1])\n",
    "    Session_lengths.append((data[1].shape)[0])\n",
    "    \n",
    "    \n",
    "    data = clean_data(i,False)\n",
    "    \n",
    "    sig = reshape_signal(data[0])\n",
    "    sig_filter = lfilter(b, a, sig)\n",
    "    sig_filter = np.stack((sig_filter).reshape(22,sig.shape[1]//750,750),axis=1)\n",
    "    Signal_list.append(sig_filter)\n",
    "    \n",
    "    Class_list.append(data[1])\n",
    "    Session_lengths.append((data[1].shape)[0])"
   ]
  },
  {
   "cell_type": "code",
   "execution_count": 19,
   "metadata": {},
   "outputs": [],
   "source": [
    "Signals = np.concatenate(Signal_list)\n",
    "Classes = np.concatenate(Class_list)"
   ]
  },
  {
   "cell_type": "code",
   "execution_count": 20,
   "metadata": {},
   "outputs": [
    {
     "name": "stdout",
     "output_type": "stream",
     "text": [
      "(4696, 22, 750) (4696,) [273, 281, 270, 283, 270, 273, 262, 228, 262, 276, 219, 215, 271, 277, 264, 271, 237, 264]\n"
     ]
    }
   ],
   "source": [
    "print(Signals.shape, Classes.shape,Session_lengths)"
   ]
  },
  {
   "cell_type": "code",
   "execution_count": 21,
   "metadata": {},
   "outputs": [],
   "source": [
    "#np.savetxt(\"SignalData.csv\", Signals.flatten(), delimiter=\",\")"
   ]
  },
  {
   "cell_type": "code",
   "execution_count": 22,
   "metadata": {},
   "outputs": [],
   "source": [
    "#np.savetxt(\"ClassData.csv\", Classes, delimiter=\",\")"
   ]
  },
  {
   "cell_type": "code",
   "execution_count": 23,
   "metadata": {},
   "outputs": [],
   "source": [
    "Signals = Signals.astype(\"float32\")"
   ]
  },
  {
   "cell_type": "code",
   "execution_count": 24,
   "metadata": {},
   "outputs": [],
   "source": [
    "np.save(\"Signals.npy\", Signals)"
   ]
  },
  {
   "cell_type": "code",
   "execution_count": 25,
   "metadata": {},
   "outputs": [],
   "source": [
    "np.save(\"Class.npy\", Classes)"
   ]
  },
  {
   "cell_type": "code",
   "execution_count": null,
   "metadata": {},
   "outputs": [],
   "source": []
  },
  {
   "cell_type": "code",
   "execution_count": null,
   "metadata": {},
   "outputs": [],
   "source": []
  },
  {
   "cell_type": "code",
   "execution_count": 3,
   "metadata": {},
   "outputs": [
    {
     "data": {
      "image/png": "[encoded data removed]",
      "text/plain": [
       "<Figure size 432x288 with 2 Axes>"
      ]
     },
     "metadata": {
      "needs_background": "light"
     },
     "output_type": "display_data"
    }
   ],
   "source": [
    "import matplotlib.pyplot as plt\n",
    "import numpy as np\n",
    "\n",
    "# 5 seconds of a 25 Hz signal with slow drift, sampling frequency 250 Hz\n",
    "signal = np.array([np.sin(25 * np.arange(5 * 250) * 2 * np.pi / 250) + \\\n",
    "np.sin(4 * np.arange(5 * 250) * 2 * np.pi / 250 + .42),\n",
    "          np.sin(25 * np.arange(5 * 250) * 2 * np.pi / 250) + \\\n",
    "np.sin(4 * np.arange(5 * 250) * 2 * np.pi / 250 + .42)])\n",
    "\n",
    "\n",
    "# filtered signal\n",
    "fsignal = lfilter(b, a, signal)[0]\n",
    "fig, axs = plt.subplots(1, 2)\n",
    "for ax, sig, lab in zip(axs,[signal[0], fsignal],['raw signal', 'filtered signal']):\n",
    "    ax.plot(sig[:250])\n",
    "    ax.set_title(lab)\n",
    "plt.show()"
   ]
  },
  {
   "cell_type": "code",
   "execution_count": null,
   "metadata": {},
   "outputs": [],
   "source": []
  }
 ],
 "metadata": {
  "kernelspec": {
   "display_name": "Python 3",
   "language": "python",
   "name": "python3"
  },
  "language_info": {
   "codemirror_mode": {
    "name": "ipython",
    "version": 3
   },
   "file_extension": ".py",
   "mimetype": "text/x-python",
   "name": "python",
   "nbconvert_exporter": "python",
   "pygments_lexer": "ipython3",
   "version": "3.7.4"
  }
 },
 "nbformat": 4,
 "nbformat_minor": 2
}
