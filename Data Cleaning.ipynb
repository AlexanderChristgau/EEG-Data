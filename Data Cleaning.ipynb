{
 "cells": [
  {
   "cell_type": "code",
   "execution_count": 1,
   "metadata": {},
   "outputs": [],
   "source": [
    "import scipy.io as sio\n",
    "import numpy as np\n",
    "import pandas as pd\n",
    "from sklearn.decomposition import FastICA\n",
    "from sklearn import svm\n",
    "import pandas as pd\n",
    "from tqdm.notebook import tqdm"
   ]
  },
  {
   "cell_type": "code",
   "execution_count": 2,
   "metadata": {},
   "outputs": [],
   "source": [
    "def extract_data(subject, training, artifactius = False):\n",
    "    n_channels = 22    #Corresponding to the 22 EEG channels\n",
    "    n_trials = 6*48    #Each session has 6 experimental runs with 48 trials each\n",
    "    offset = 3*250     #record 3 seconds after trial marker\n",
    "    win_length = 3*250 #stop after 3 seconds of recording\n",
    "    \n",
    "    class_return = np.zeros(n_trials)\n",
    "    data_return = np.zeros((n_trials, n_channels, win_length))\n",
    "    \n",
    "    n_valid_trials = 0\n",
    "    \n",
    "    if training:\n",
    "        Z = sio.loadmat('A0'+str(subject)+'T.mat')\n",
    "    else:\n",
    "        Z = sio.loadmat('A0'+str(subject)+'E.mat')\n",
    "    Z_data = Z[\"data\"]\n",
    "    for i in range(Z_data.size):\n",
    "        Z_data1 = Z_data[0,i]\n",
    "        Z_data2 = [Z_data1[0,0]]\n",
    "        Z_data3 = Z_data2[0]\n",
    "        \n",
    "        Z_X         = Z_data3[0]\n",
    "        Z_trial     = Z_data3[1]\n",
    "        Z_y         = Z_data3[2]\n",
    "        Z_fs        = Z_data3[3]\n",
    "        Z_classes   = Z_data3[4]\n",
    "        Z_artifacts = Z_data3[5]\n",
    "        Z_gender    = Z_data3[6]\n",
    "        Z_age       = Z_data3[7]\n",
    "        for trial in range(0,Z_trial.size):\n",
    "            if Z_artifacts[trial]==0 or artifactius:\n",
    "                data_return[n_valid_trials,:,:] = np.transpose(\n",
    "                    Z_X[int(Z_trial[trial])+offset:(int(Z_trial[trial])+offset+win_length),:22]\n",
    "                )\n",
    "                class_return[n_valid_trials] = int(Z_y[trial])\n",
    "                n_valid_trials +=1\n",
    "                \n",
    "    return data_return[0:n_valid_trials,:,:], class_return[0:n_valid_trials]"
   ]
  },
  {
   "cell_type": "code",
   "execution_count": null,
   "metadata": {},
   "outputs": [],
   "source": [
    "testData = extract_data(1,True)\n",
    "print(testData[0].shape)\n",
    "print(testData[1].shape)"
   ]
  },
  {
   "cell_type": "markdown",
   "metadata": {},
   "source": [
    "Classification on raw data to sanity check"
   ]
  },
  {
   "cell_type": "code",
   "execution_count": 3,
   "metadata": {},
   "outputs": [],
   "source": [
    "def bandwidthpow(Data):\n",
    "    x,y,z = Data.shape\n",
    "    output = np.zeros((x,y))\n",
    "    \n",
    "    for i in range(x):\n",
    "        output[i,:] = np.log(np.var(Data[i,:,:], axis = 1))\n",
    "    return output"
   ]
  },
  {
   "cell_type": "code",
   "execution_count": null,
   "metadata": {},
   "outputs": [],
   "source": [
    "bandwidths = bandwidthpow(testData[0])"
   ]
  },
  {
   "cell_type": "code",
   "execution_count": null,
   "metadata": {},
   "outputs": [],
   "source": [
    "clf = svm.SVC(decision_function_shape='ovo')\n",
    "clf.fit(bandwidths, testData[1])"
   ]
  },
  {
   "cell_type": "code",
   "execution_count": null,
   "metadata": {},
   "outputs": [],
   "source": [
    "predicts = clf.predict(bandwidths)"
   ]
  },
  {
   "cell_type": "code",
   "execution_count": null,
   "metadata": {},
   "outputs": [],
   "source": [
    "np.mean(predicts==testData[1])"
   ]
  },
  {
   "cell_type": "markdown",
   "metadata": {},
   "source": [
    "Well above chance, i.e. signals do explain to some degree."
   ]
  },
  {
   "cell_type": "markdown",
   "metadata": {},
   "source": [
    "# Try bandpass filtering"
   ]
  },
  {
   "cell_type": "code",
   "execution_count": 4,
   "metadata": {},
   "outputs": [],
   "source": [
    "from scipy.signal import butter, lfilter\n",
    "\n",
    "lowcut = 8\n",
    "highcut = 30\n",
    "fs = 250 # sampling frequency\n",
    "order = 3\n",
    "nyq = 0.5 * fs\n",
    "low = lowcut / nyq\n",
    "high = highcut / nyq\n",
    "b, a = butter(order, [low, high], btype='band')"
   ]
  },
  {
   "cell_type": "code",
   "execution_count": 5,
   "metadata": {},
   "outputs": [],
   "source": [
    "def reshape_signal(arr):\n",
    "    x,y,z = arr.shape\n",
    "    arr2 = np.stack(arr, axis = 1)\n",
    "    arr2 = arr2.reshape((y, x*z))\n",
    "    return arr2"
   ]
  },
  {
   "cell_type": "code",
   "execution_count": null,
   "metadata": {},
   "outputs": [],
   "source": [
    "sig = reshape_signal(testData[0])"
   ]
  },
  {
   "cell_type": "code",
   "execution_count": null,
   "metadata": {},
   "outputs": [],
   "source": [
    "sig_filter = lfilter(b, a, sig)"
   ]
  },
  {
   "cell_type": "code",
   "execution_count": null,
   "metadata": {},
   "outputs": [],
   "source": [
    "sig_filter = np.stack((sig_filter).reshape(22,sig.shape[1]//750,750),axis=1)"
   ]
  },
  {
   "cell_type": "code",
   "execution_count": null,
   "metadata": {},
   "outputs": [],
   "source": [
    "bandwidths = bandwidthpow(sig_filter)"
   ]
  },
  {
   "cell_type": "code",
   "execution_count": null,
   "metadata": {},
   "outputs": [],
   "source": [
    "clf = svm.SVC(decision_function_shape='ovo')\n",
    "clf.fit(bandwidths, testData[1])"
   ]
  },
  {
   "cell_type": "code",
   "execution_count": null,
   "metadata": {},
   "outputs": [],
   "source": [
    "predicts = clf.predict(bandwidths)\n",
    "np.mean(predicts==testData[1])"
   ]
  },
  {
   "cell_type": "code",
   "execution_count": null,
   "metadata": {},
   "outputs": [],
   "source": [
    "print(sig.shape, testData[0].shape, sig_filter.shape)"
   ]
  },
  {
   "cell_type": "markdown",
   "metadata": {},
   "source": [
    "# CAR"
   ]
  },
  {
   "cell_type": "code",
   "execution_count": 6,
   "metadata": {},
   "outputs": [],
   "source": [
    "def car(samples):\n",
    "    d = samples.shape[0]\n",
    "    centering = np.eye(d) - np.ones((d, d)) / d\n",
    "    return centering.dot(samples)\n",
    "\n",
    "\n",
    "# returns basis of A's null space\n",
    "def null(A, eps=1e-15):\n",
    "    # svd\n",
    "    u, s, v = np.linalg.svd(A)\n",
    "    # dimension of null space\n",
    "    padding = max(0, np.shape(A)[1] - np.shape(s)[0])\n",
    "    # select columns/rows corresponding to v\n",
    "    null_mask = np.concatenate(((s <= eps),\n",
    "                                np.ones((padding,), dtype=bool)), axis=0)\n",
    "    null_space = np.compress(null_mask, v, axis=0)\n",
    "    return null_space\n",
    "\n",
    "\n",
    "def carcomplement(samples):\n",
    "    d = samples.shape[0]\n",
    "    carcomp = null(np.ones((1, d)))\n",
    "    return carcomp.dot(samples)"
   ]
  },
  {
   "cell_type": "markdown",
   "metadata": {},
   "source": [
    "# Cleaning all data"
   ]
  },
  {
   "cell_type": "code",
   "execution_count": 7,
   "metadata": {},
   "outputs": [],
   "source": [
    "def clean_data(subs = range(1,10),datatype=\"float32\",filt = False,art = False):\n",
    "    Signal_list = []\n",
    "    Class_list = []\n",
    "    Session_lengths = []\n",
    "\n",
    "    for i in tqdm(subs):\n",
    "        #Extract data for training session\n",
    "        data = extract_data(i,True,art)\n",
    "\n",
    "        #Concatenate cignals, CAR, and project to null complement\n",
    "        sig = reshape_signal(data[0])\n",
    "        sig = carcomplement(sig)\n",
    "\n",
    "        #Filter\n",
    "        if filt:\n",
    "            sig = lfilter(b, a, sig)\n",
    "        \n",
    "        #Reshape\n",
    "        sig = np.stack(sig.reshape(21,sig.shape[1]//750,750),axis=1)\n",
    "        Signal_list.append(sig)\n",
    "\n",
    "        Class_list.append(data[1])\n",
    "        Session_lengths.append((data[1].shape)[0])\n",
    "\n",
    "        #Repeat for eval\n",
    "        data = extract_data(i,False,art)\n",
    "        \n",
    "        sig = reshape_signal(data[0])\n",
    "        sig = carcomplement(sig)\n",
    "        if filt:\n",
    "            sig = lfilter(b, a, sig)\n",
    "        \n",
    "        sig = np.stack(sig.reshape(21,sig.shape[1]//750,750),axis=1)\n",
    "        Signal_list.append(sig)\n",
    "        Class_list.append(data[1])\n",
    "        Session_lengths.append((data[1].shape)[0])\n",
    "\n",
    "    Signals = np.concatenate(Signal_list)\n",
    "    Classes = np.concatenate(Class_list)\n",
    "    \n",
    "    Signals = Signals.astype(datatype)\n",
    "    \n",
    "    return Signals,Classes, Session_lengths"
   ]
  },
  {
   "cell_type": "code",
   "execution_count": 8,
   "metadata": {},
   "outputs": [
    {
     "data": {
      "application/vnd.jupyter.widget-view+json": {
       "model_id": "c4385ef42b87420d933073f146aa6ca0",
       "version_major": 2,
       "version_minor": 0
      },
      "text/plain": [
       "HBox(children=(IntProgress(value=0, max=8), HTML(value='')))"
      ]
     },
     "metadata": {},
     "output_type": "display_data"
    },
    {
     "name": "stdout",
     "output_type": "stream",
     "text": [
      "\n"
     ]
    }
   ],
   "source": [
    "Signals,Classes,n_se = clean_data(subs=[1,3,4,5,6,7,8,9])"
   ]
  },
  {
   "cell_type": "code",
   "execution_count": 9,
   "metadata": {},
   "outputs": [
    {
     "name": "stdout",
     "output_type": "stream",
     "text": [
      "(4143, 21, 750) (4143,) [273, 281, 270, 273, 262, 228, 262, 276, 219, 215, 271, 277, 264, 271, 237, 264]\n"
     ]
    }
   ],
   "source": [
    "print(Signals.shape, Classes.shape,n_se)"
   ]
  },
  {
   "cell_type": "code",
   "execution_count": 10,
   "metadata": {},
   "outputs": [],
   "source": [
    "np.save(\"Signals_CAR_nofilt8.npy\", Signals)"
   ]
  },
  {
   "cell_type": "code",
   "execution_count": 11,
   "metadata": {},
   "outputs": [],
   "source": [
    "np.save(\"Class_CAR_nofilt8.npy\", Classes)"
   ]
  },
  {
   "cell_type": "code",
   "execution_count": null,
   "metadata": {},
   "outputs": [],
   "source": []
  },
  {
   "cell_type": "code",
   "execution_count": null,
   "metadata": {},
   "outputs": [],
   "source": [
    "import matplotlib.pyplot as plt\n",
    "import numpy as np\n",
    "\n",
    "# 5 seconds of a 25 Hz signal with slow drift, sampling frequency 250 Hz\n",
    "signal = np.array([np.sin(25 * np.arange(5 * 250) * 2 * np.pi / 250) + \\\n",
    "np.sin(4 * np.arange(5 * 250) * 2 * np.pi / 250 + .42),\n",
    "          np.sin(25 * np.arange(5 * 250) * 2 * np.pi / 250) + \\\n",
    "np.sin(4 * np.arange(5 * 250) * 2 * np.pi / 250 + .42)])\n",
    "\n",
    "\n",
    "# filtered signal\n",
    "fsignal = lfilter(b, a, signal)[0]\n",
    "fig, axs = plt.subplots(1, 2)\n",
    "for ax, sig, lab in zip(axs,[signal[0], fsignal],['raw signal', 'filtered signal']):\n",
    "    ax.plot(sig[:250])\n",
    "    ax.set_title(lab)\n",
    "plt.show()"
   ]
  },
  {
   "cell_type": "code",
   "execution_count": null,
   "metadata": {},
   "outputs": [],
   "source": [
    "def clean_data2(subject, training, artifactius = False):\n",
    "    '''\n",
    "    comment\n",
    "    '''\n",
    "    n_channels = 22    #Corresponding to the 22 EEG channels\n",
    "    n_trials = 6*48    #Each session has 6 experimental runs with 48 trials each\n",
    "    offset = 3*250     #record 3 seconds after trial marker\n",
    "    win_length = 3*250 #stop after 3 seconds of recording\n",
    "    \n",
    "    class_return = np.zeros(n_trials)\n",
    "    data_return = np.zeros((n_trials, n_channels, win_length))\n",
    "    \n",
    "    n_valid_trials = 0\n",
    "    \n",
    "    if training:\n",
    "        Z = sio.loadmat('A0'+str(subject)+'T.mat')\n",
    "    else:\n",
    "        Z = sio.loadmat('A0'+str(subject)+'E.mat')\n",
    "    Z_data = Z[\"data\"]\n",
    "    for i in range(Z_data.size):\n",
    "        Z_data1 = Z_data[0,i]\n",
    "        Z_data2 = [Z_data1[0,0]]\n",
    "        Z_data3 = Z_data2[0]\n",
    "        \n",
    "        Z_X         = Z_data3[0]\n",
    "        Z_trial     = Z_data3[1]\n",
    "        Z_y         = Z_data3[2]\n",
    "        Z_fs        = Z_data3[3]\n",
    "        Z_classes   = Z_data3[4]\n",
    "        Z_artifacts = Z_data3[5]\n",
    "        Z_gender    = Z_data3[6]\n",
    "        Z_age       = Z_data3[7]\n",
    "        for trial in range(0,Z_trial.size):\n",
    "            if Z_artifacts[trial]==0:\n",
    "                sig = reshape_signal(np.expand_dims(np.transpose(\n",
    "                    Z_X[int(Z_trial[trial])+offset:(int(Z_trial[trial])+offset+win_length),:22]\n",
    "                ), axis=0))\n",
    "                sig_filter = lfilter(b, a, sig)\n",
    "                sig_filter = np.stack((sig_filter).reshape(22,1,750),axis=1)\n",
    "                \n",
    "                data_return[n_valid_trials,:,:] = sig_filter[0]\n",
    "                class_return[n_valid_trials] = int(Z_y[trial])\n",
    "                n_valid_trials +=1\n",
    "                \n",
    "    return data_return[0:n_valid_trials,:,:], class_return[0:n_valid_trials]"
   ]
  },
  {
   "cell_type": "code",
   "execution_count": null,
   "metadata": {},
   "outputs": [],
   "source": [
    "Signal_list = []\n",
    "Class_list = []\n",
    "Session_lengths = []\n",
    "\n",
    "for i in tqdm(range(1,10)):\n",
    "    data = clean_data2(i,True)\n",
    "    Signal_list.append(data[0])\n",
    "    Class_list.append(data[1])\n",
    "    Session_lengths.append((data[1].shape)[0])\n",
    "    \n",
    "    \n",
    "    data = clean_data(i,False)\n",
    "    Signal_list.append(data[0])\n",
    "    Class_list.append(data[1])\n",
    "    Session_lengths.append((data[1].shape)[0])"
   ]
  },
  {
   "cell_type": "code",
   "execution_count": null,
   "metadata": {},
   "outputs": [],
   "source": [
    "Signals = np.concatenate(Signal_list)\n",
    "Classes = np.concatenate(Class_list)\n",
    "print(Signals.shape, Classes.shape,Session_lengths)"
   ]
  },
  {
   "cell_type": "code",
   "execution_count": null,
   "metadata": {},
   "outputs": [],
   "source": [
    "Signals = Signals.astype(\"float32\")"
   ]
  },
  {
   "cell_type": "code",
   "execution_count": null,
   "metadata": {},
   "outputs": [],
   "source": [
    "np.save(\"Signals_filt.npy\", Signals)\n",
    "np.save(\"Class_filt.npy\", Classes)"
   ]
  },
  {
   "cell_type": "code",
   "execution_count": null,
   "metadata": {},
   "outputs": [],
   "source": []
  }
 ],
 "metadata": {
  "kernelspec": {
   "display_name": "Python 3",
   "language": "python",
   "name": "python3"
  },
  "language_info": {
   "codemirror_mode": {
    "name": "ipython",
    "version": 3
   },
   "file_extension": ".py",
   "mimetype": "text/x-python",
   "name": "python",
   "nbconvert_exporter": "python",
   "pygments_lexer": "ipython3",
   "version": "3.7.4"
  }
 },
 "nbformat": 4,
 "nbformat_minor": 2
}
