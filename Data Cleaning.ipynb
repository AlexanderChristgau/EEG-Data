{
 "cells": [
  {
   "cell_type": "markdown",
   "metadata": {},
   "source": [
    "# Preperation of data set A from BCI Competition 2008"
   ]
  },
  {
   "cell_type": "code",
   "execution_count": 1,
   "metadata": {},
   "outputs": [],
   "source": [
    "#Load relevant packages\n",
    "import scipy.io as sio\n",
    "import numpy as np\n",
    "import pandas as pd\n",
    "from sklearn.decomposition import FastICA\n",
    "from sklearn import svm\n",
    "import pandas as pd\n",
    "from tqdm.notebook import tqdm"
   ]
  },
  {
   "cell_type": "code",
   "execution_count": 2,
   "metadata": {},
   "outputs": [],
   "source": [
    "def extract_data(subject, training, artifactius = False):\n",
    "    '''\n",
    "    input:\n",
    "        subject     - integer in range 1,..,9. Specifies from which subject to load data.\n",
    "        training    - boolean. Specifies if training file or evaluation file should be loaded.\n",
    "        artifactius - To include artifacts or not.\n",
    "    output:\n",
    "        tuple: first entry contains a 3d-array of signal data with shape is n_trial x n_channels x signal length.\n",
    "               second entry contains a vector of classes\n",
    "    '''\n",
    "    n_channels = 22    #Corresponding to the 22 EEG channels\n",
    "    n_trials = 6*48    #Each session has 6 experimental runs with 48 trials each\n",
    "    offset = 3*250     #record 3 seconds after trial marker\n",
    "    win_length = 3*250 #stop after 3 seconds of recording\n",
    "    \n",
    "    class_return = np.zeros(n_trials)\n",
    "    data_return = np.zeros((n_trials, n_channels, win_length))\n",
    "    \n",
    "    n_valid_trials = 0\n",
    "    \n",
    "    if training:\n",
    "        Z = sio.loadmat('A0'+str(subject)+'T.mat')\n",
    "    else:\n",
    "        Z = sio.loadmat('A0'+str(subject)+'E.mat')\n",
    "    Z_data = Z[\"data\"]\n",
    "    for i in range(Z_data.size):\n",
    "        Z_data1 = Z_data[0,i]\n",
    "        Z_data2 = [Z_data1[0,0]]\n",
    "        Z_data3 = Z_data2[0]\n",
    "        \n",
    "        Z_X         = Z_data3[0]\n",
    "        Z_trial     = Z_data3[1]\n",
    "        Z_y         = Z_data3[2]\n",
    "        Z_fs        = Z_data3[3]\n",
    "        Z_classes   = Z_data3[4]\n",
    "        Z_artifacts = Z_data3[5]\n",
    "        Z_gender    = Z_data3[6]\n",
    "        Z_age       = Z_data3[7]\n",
    "        for trial in range(0,Z_trial.size):\n",
    "            if Z_artifacts[trial]==0 or artifactius:\n",
    "                data_return[n_valid_trials,:,:] = np.transpose(\n",
    "                    Z_X[int(Z_trial[trial])+offset:(int(Z_trial[trial])+offset+win_length),:22]\n",
    "                )\n",
    "                class_return[n_valid_trials] = int(Z_y[trial])\n",
    "                n_valid_trials +=1\n",
    "                \n",
    "    return data_return[0:n_valid_trials,:,:], class_return[0:n_valid_trials]"
   ]
  },
  {
   "cell_type": "markdown",
   "metadata": {},
   "source": [
    "Try extracting data from training session of subject "
   ]
  },
  {
   "cell_type": "code",
   "execution_count": 3,
   "metadata": {},
   "outputs": [
    {
     "name": "stdout",
     "output_type": "stream",
     "text": [
      "(273, 22, 750)\n",
      "(273,)\n"
     ]
    }
   ],
   "source": [
    "testData = extract_data(1,True)\n",
    "print(testData[0].shape)\n",
    "print(testData[1].shape)"
   ]
  },
  {
   "cell_type": "markdown",
   "metadata": {},
   "source": [
    "## Classification on raw data to sanity check"
   ]
  },
  {
   "cell_type": "code",
   "execution_count": 4,
   "metadata": {},
   "outputs": [],
   "source": [
    "# Define bandpowerfeatures as log of variances of signals.\n",
    "def bandpower_feat(Data):\n",
    "    x,y,z = Data.shape\n",
    "    output = np.zeros((x,y))\n",
    "    \n",
    "    for i in range(x):\n",
    "        output[i,:] = np.log(np.var(Data[i,:,:], axis = 1))\n",
    "    return output"
   ]
  },
  {
   "cell_type": "code",
   "execution_count": 5,
   "metadata": {},
   "outputs": [],
   "source": [
    "bandwidths = bandpower_feat(testData[0])"
   ]
  },
  {
   "cell_type": "markdown",
   "metadata": {},
   "source": [
    "Try fitting a classifier, e.g. a linear SVM"
   ]
  },
  {
   "cell_type": "code",
   "execution_count": 6,
   "metadata": {},
   "outputs": [
    {
     "data": {
      "text/plain": [
       "SVC(C=1.0, break_ties=False, cache_size=200, class_weight=None, coef0=0.0,\n",
       "    decision_function_shape='ovo', degree=3, gamma='scale', kernel='rbf',\n",
       "    max_iter=-1, probability=False, random_state=None, shrinking=True,\n",
       "    tol=0.001, verbose=False)"
      ]
     },
     "execution_count": 6,
     "metadata": {},
     "output_type": "execute_result"
    }
   ],
   "source": [
    "clf = svm.SVC(decision_function_shape='ovo')\n",
    "clf.fit(bandwidths, testData[1])"
   ]
  },
  {
   "cell_type": "markdown",
   "metadata": {},
   "source": [
    "Predict on the same data to see if data is loaded sensibly"
   ]
  },
  {
   "cell_type": "code",
   "execution_count": 7,
   "metadata": {},
   "outputs": [
    {
     "data": {
      "text/plain": [
       "0.4542124542124542"
      ]
     },
     "execution_count": 7,
     "metadata": {},
     "output_type": "execute_result"
    }
   ],
   "source": [
    "predicts = clf.predict(bandwidths)\n",
    "np.mean(predicts==testData[1])"
   ]
  },
  {
   "cell_type": "markdown",
   "metadata": {},
   "source": [
    "Well above chance, so data should be loaded correctly."
   ]
  },
  {
   "cell_type": "markdown",
   "metadata": {},
   "source": [
    "# Try bandpass filtering"
   ]
  },
  {
   "cell_type": "markdown",
   "metadata": {},
   "source": [
    "Setup parameters for filtering"
   ]
  },
  {
   "cell_type": "code",
   "execution_count": 8,
   "metadata": {},
   "outputs": [],
   "source": [
    "from scipy.signal import butter, lfilter\n",
    "lowcut = 8    # Lower frequency cutoff\n",
    "highcut = 30  # Upper frequency cutoff\n",
    "fs = 250      # sampling frequency\n",
    "order = 3\n",
    "nyq = 0.5 * fs\n",
    "low = lowcut / nyq\n",
    "high = highcut / nyq\n",
    "b, a = butter(order, [low, high], btype='band')"
   ]
  },
  {
   "cell_type": "markdown",
   "metadata": {},
   "source": [
    "Define a function that concatenates signals"
   ]
  },
  {
   "cell_type": "code",
   "execution_count": 9,
   "metadata": {},
   "outputs": [],
   "source": [
    "def reshape_signal(arr):\n",
    "    x,y,z = arr.shape\n",
    "    arr2 = np.stack(arr, axis = 1)\n",
    "    arr2 = arr2.reshape((y, x*z))\n",
    "    return arr2"
   ]
  },
  {
   "cell_type": "markdown",
   "metadata": {},
   "source": [
    "Try on the testdata"
   ]
  },
  {
   "cell_type": "code",
   "execution_count": 10,
   "metadata": {},
   "outputs": [],
   "source": [
    "sig = reshape_signal(testData[0])"
   ]
  },
  {
   "cell_type": "code",
   "execution_count": 11,
   "metadata": {},
   "outputs": [],
   "source": [
    "sig_filter = lfilter(b, a, sig)"
   ]
  },
  {
   "cell_type": "code",
   "execution_count": 12,
   "metadata": {},
   "outputs": [],
   "source": [
    "sig_filter = np.stack((sig_filter).reshape(22,sig.shape[1]//750,750),axis=1)"
   ]
  },
  {
   "cell_type": "code",
   "execution_count": 13,
   "metadata": {},
   "outputs": [],
   "source": [
    "bandwidths = bandpower_feat(sig_filter)"
   ]
  },
  {
   "cell_type": "code",
   "execution_count": 14,
   "metadata": {},
   "outputs": [
    {
     "data": {
      "text/plain": [
       "SVC(C=1.0, break_ties=False, cache_size=200, class_weight=None, coef0=0.0,\n",
       "    decision_function_shape='ovo', degree=3, gamma='scale', kernel='rbf',\n",
       "    max_iter=-1, probability=False, random_state=None, shrinking=True,\n",
       "    tol=0.001, verbose=False)"
      ]
     },
     "execution_count": 14,
     "metadata": {},
     "output_type": "execute_result"
    }
   ],
   "source": [
    "clf = svm.SVC(decision_function_shape='ovo')\n",
    "clf.fit(bandwidths, testData[1])"
   ]
  },
  {
   "cell_type": "code",
   "execution_count": 15,
   "metadata": {},
   "outputs": [
    {
     "data": {
      "text/plain": [
       "0.608058608058608"
      ]
     },
     "execution_count": 15,
     "metadata": {},
     "output_type": "execute_result"
    }
   ],
   "source": [
    "predicts = clf.predict(bandwidths)\n",
    "np.mean(predicts==testData[1])"
   ]
  },
  {
   "cell_type": "markdown",
   "metadata": {},
   "source": [
    "This significantly improves the prediction accuracy"
   ]
  },
  {
   "cell_type": "markdown",
   "metadata": {},
   "source": [
    "# CAR"
   ]
  },
  {
   "cell_type": "markdown",
   "metadata": {},
   "source": [
    "Define functions for car and projection on to the null complement"
   ]
  },
  {
   "cell_type": "code",
   "execution_count": 16,
   "metadata": {},
   "outputs": [],
   "source": [
    "def car(samples):\n",
    "    d = samples.shape[0]\n",
    "    centering = np.eye(d) - np.ones((d, d)) / d\n",
    "    return centering.dot(samples)\n",
    "    #return samples - np.mean(samples, axis=0)\n",
    "\n",
    "# returns basis of A's null space\n",
    "def null(A, eps=1e-15):\n",
    "    # svd\n",
    "    u, s, v = np.linalg.svd(A)\n",
    "    # dimension of null space\n",
    "    padding = max(0, np.shape(A)[1] - np.shape(s)[0])\n",
    "    # select columns/rows corresponding to v\n",
    "    null_mask = np.concatenate(((s <= eps),\n",
    "                                np.ones((padding,), dtype=bool)), axis=0)\n",
    "    null_space = np.compress(null_mask, v, axis=0)\n",
    "    return null_space\n",
    "\n",
    "\n",
    "def carcomplement(samples):\n",
    "    d = samples.shape[0]\n",
    "    carcomp = null(np.ones((1, d)))\n",
    "    return carcomp.dot(samples)"
   ]
  },
  {
   "cell_type": "markdown",
   "metadata": {},
   "source": [
    "Try again with CAR signals"
   ]
  },
  {
   "cell_type": "code",
   "execution_count": 17,
   "metadata": {},
   "outputs": [],
   "source": [
    "sig_car = car(sig)"
   ]
  },
  {
   "cell_type": "code",
   "execution_count": 31,
   "metadata": {},
   "outputs": [
    {
     "data": {
      "text/plain": [
       "0.7106227106227107"
      ]
     },
     "execution_count": 31,
     "metadata": {},
     "output_type": "execute_result"
    }
   ],
   "source": [
    "sig_filter = lfilter(b, a, sig_car)\n",
    "sig_filter = np.delete(sig_filter, (21), axis=0)\n",
    "sig_filter = np.stack((sig_filter).reshape(21,sig.shape[1]//750,750),axis=1)\n",
    "bandwidths = bandpower_feat(sig_filter)\n",
    "clf = svm.SVC(decision_function_shape='ovo')\n",
    "clf.fit(bandwidths, testData[1])\n",
    "\n",
    "predicts = clf.predict(bandwidths)\n",
    "np.mean(predicts==testData[1])"
   ]
  },
  {
   "cell_type": "markdown",
   "metadata": {},
   "source": [
    "# Cleaning all data"
   ]
  },
  {
   "cell_type": "code",
   "execution_count": 23,
   "metadata": {},
   "outputs": [],
   "source": [
    "def clean_data(subs = range(1,10),datatype=\"float32\",filt = False,art = False):\n",
    "    Signal_list = []\n",
    "    Class_list = []\n",
    "    Session_lengths = []\n",
    "\n",
    "    for i in tqdm(subs):\n",
    "        #Extract data for training session\n",
    "        data = extract_data(i,True,art)\n",
    "\n",
    "        #Concatenate cignals, CAR, and project to null complement\n",
    "        sig = reshape_signal(data[0])\n",
    "        sig = carcomplement(sig)\n",
    "\n",
    "        #Filter\n",
    "        if filt:\n",
    "            sig = lfilter(b, a, sig)\n",
    "        \n",
    "        #Reshape\n",
    "        sig = np.stack(sig.reshape(21,sig.shape[1]//750,750),axis=1)\n",
    "        Signal_list.append(sig)\n",
    "\n",
    "        Class_list.append(data[1])\n",
    "        Session_lengths.append((data[1].shape)[0])\n",
    "\n",
    "        #Repeat for eval\n",
    "        data = extract_data(i,False,art)\n",
    "        \n",
    "        sig = reshape_signal(data[0])\n",
    "        sig = carcomplement(sig)\n",
    "        \n",
    "        if filt:\n",
    "            sig = lfilter(b, a, sig)\n",
    "        \n",
    "        sig = np.stack(sig.reshape(21,sig.shape[1]//750,750),axis=1)\n",
    "        Signal_list.append(sig)\n",
    "        Class_list.append(data[1])\n",
    "        Session_lengths.append((data[1].shape)[0])\n",
    "\n",
    "    Signals = np.concatenate(Signal_list)\n",
    "    Classes = np.concatenate(Class_list)\n",
    "    \n",
    "    Signals = Signals.astype(datatype)\n",
    "    \n",
    "    return Signals,Classes, Session_lengths"
   ]
  },
  {
   "cell_type": "code",
   "execution_count": 24,
   "metadata": {},
   "outputs": [
    {
     "data": {
      "application/vnd.jupyter.widget-view+json": {
       "model_id": "e6f13830a4fa4c0ab4633ef240a15c95",
       "version_major": 2,
       "version_minor": 0
      },
      "text/plain": [
       "HBox(children=(IntProgress(value=0, max=9), HTML(value='')))"
      ]
     },
     "metadata": {},
     "output_type": "display_data"
    },
    {
     "name": "stdout",
     "output_type": "stream",
     "text": [
      "\n"
     ]
    }
   ],
   "source": [
    "Signals,Classes,n_se = clean_data()"
   ]
  },
  {
   "cell_type": "code",
   "execution_count": 25,
   "metadata": {},
   "outputs": [
    {
     "name": "stdout",
     "output_type": "stream",
     "text": [
      "(4696, 21, 750) (4696,) [273, 281, 270, 283, 270, 273, 262, 228, 262, 276, 219, 215, 271, 277, 264, 271, 237, 264]\n"
     ]
    }
   ],
   "source": [
    "print(Signals.shape, Classes.shape,n_se)"
   ]
  },
  {
   "cell_type": "code",
   "execution_count": 32,
   "metadata": {},
   "outputs": [],
   "source": [
    "#np.save(\"Signals1.npy\", Signals)"
   ]
  },
  {
   "cell_type": "code",
   "execution_count": 33,
   "metadata": {},
   "outputs": [],
   "source": [
    "#np.save(\"Classes1.npy\", Classes)"
   ]
  }
 ],
 "metadata": {
  "kernelspec": {
   "display_name": "Python 3",
   "language": "python",
   "name": "python3"
  },
  "language_info": {
   "codemirror_mode": {
    "name": "ipython",
    "version": 3
   },
   "file_extension": ".py",
   "mimetype": "text/x-python",
   "name": "python",
   "nbconvert_exporter": "python",
   "pygments_lexer": "ipython3",
   "version": "3.7.4"
  }
 },
 "nbformat": 4,
 "nbformat_minor": 2
}
